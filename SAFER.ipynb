{
  "cells": [
    {
      "cell_type": "code",
      "execution_count": null,
      "metadata": {
        "id": "zfJXjzSiRtgL"
      },
      "outputs": [],
      "source": [
        "%cd ~/\n",
        "\n",
        "#CLONE FROM GITHUB\n",
        "!git clone -l -s https://github.com/SeanDaBlack/ROE-CPC\n",
        "\n",
        "#INSTALL CHROME DRIVER\n",
        "!apt-get update \n",
        "!apt install chromium-chromedriver\n",
        "\n",
        "\n",
        "#CD INTO DIR\n",
        "%cd ROE-CPC/\n",
        "\n",
        "#INSTALL REQUIREMENTS\n",
        "!pip install -r requirements.txt"
      ]
    },
    {
      "cell_type": "code",
      "execution_count": null,
      "metadata": {
        "id": "kqpp0y5wbzqt"
      },
      "outputs": [],
      "source": [
        "!python main.py --cloud -r 20"
      ]
    }
  ],
  "metadata": {
    "colab": {
      "collapsed_sections": [],
      "name": "SAFER.ipynb",
      "private_outputs": true,
      "provenance": []
    },
    "kernelspec": {
      "display_name": "Python 3",
      "name": "python3"
    },
    "language_info": {
      "name": "python"
    },
    "gpuClass": "standard"
  },
  "nbformat": 4,
  "nbformat_minor": 0
}